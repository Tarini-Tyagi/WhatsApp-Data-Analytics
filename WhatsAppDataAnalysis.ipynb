{
 "cells": [
  {
   "cell_type": "code",
   "execution_count": 21,
   "metadata": {},
   "outputs": [
    {
     "data": {
      "text/html": [
       "<div>\n",
       "<style scoped>\n",
       "    .dataframe tbody tr th:only-of-type {\n",
       "        vertical-align: middle;\n",
       "    }\n",
       "\n",
       "    .dataframe tbody tr th {\n",
       "        vertical-align: top;\n",
       "    }\n",
       "\n",
       "    .dataframe thead th {\n",
       "        text-align: right;\n",
       "    }\n",
       "</style>\n",
       "<table border=\"1\" class=\"dataframe\">\n",
       "  <thead>\n",
       "    <tr style=\"text-align: right;\">\n",
       "      <th></th>\n",
       "      <th>Date</th>\n",
       "      <th>Time</th>\n",
       "      <th>Author</th>\n",
       "      <th>Message</th>\n",
       "    </tr>\n",
       "  </thead>\n",
       "  <tbody>\n",
       "    <tr>\n",
       "      <th>count</th>\n",
       "      <td>316</td>\n",
       "      <td>316</td>\n",
       "      <td>316</td>\n",
       "      <td>317</td>\n",
       "    </tr>\n",
       "    <tr>\n",
       "      <th>unique</th>\n",
       "      <td>27</td>\n",
       "      <td>154</td>\n",
       "      <td>20</td>\n",
       "      <td>221</td>\n",
       "    </tr>\n",
       "    <tr>\n",
       "      <th>top</th>\n",
       "      <td>26/04/19</td>\n",
       "      <td>12:00 pm</td>\n",
       "      <td>Tarini Tyagi</td>\n",
       "      <td>&lt;Media omitted&gt;</td>\n",
       "    </tr>\n",
       "    <tr>\n",
       "      <th>freq</th>\n",
       "      <td>68</td>\n",
       "      <td>9</td>\n",
       "      <td>110</td>\n",
       "      <td>40</td>\n",
       "    </tr>\n",
       "  </tbody>\n",
       "</table>\n",
       "</div>"
      ],
      "text/plain": [
       "            Date      Time        Author          Message\n",
       "count        316       316           316              317\n",
       "unique        27       154            20              221\n",
       "top     26/04/19  12:00 pm  Tarini Tyagi  <Media omitted>\n",
       "freq          68         9           110               40"
      ]
     },
     "execution_count": 21,
     "metadata": {},
     "output_type": "execute_result"
    }
   ],
   "source": [
    "import matplotlib.pyplot as plt\n",
    "import pandas as pd\n",
    "import seaborn as se\n",
    "#import regex as re\n",
    "\n",
    "def startsWithDateTime(s):\n",
    "    pattern = '^([0-2][0-9]|(3)[0-1])(\\/)(((0)[0-9])|((1)[0-2]))(\\/)(\\d{2}|\\d{4}), ([0-9][0-9]):([0-9][0-9])'\n",
    "    result = re.match(pattern, s)\n",
    "    if result:\n",
    "        return True\n",
    "    return False\n",
    "\n",
    "\n",
    "def startsWithAuthor(s):\n",
    "    patterns = [\n",
    "        '([\\w]+):',                        # First Name\n",
    "        '([\\w]+[\\s]+[\\w]+):',              # First Name + Last Name\n",
    "        '([\\w]+[\\s]+[\\w]+[\\s]+[\\w]+):',    # First Name + Middle Name + Last Name\n",
    "        '([+]\\d{2} \\d{5} \\d{5}):',         # Mobile Number (India)\n",
    "        '([+]\\d{2} \\d{3} \\d{3} \\d{4}):',   # Mobile Number (US)\n",
    "        '([+]\\d{2} \\d{4} \\d{7})'           # Mobile Number (Europe)\n",
    "    ]\n",
    "    pattern = '^' + '|'.join(patterns)\n",
    "    result = re.match(pattern, s)\n",
    "    if result:\n",
    "        return True\n",
    "    return False\n",
    "\n",
    "def getDataPoint(line):\n",
    "    # line = 28/03/19, 2:35 pm - You created group \"Tech team farewell🥳🥳\"\n",
    "\n",
    "    splitLine = line.split(' - ') # splitLine = ['28/03/19, 2:35', 'Tarini Tyagi: Why do we have less score']\n",
    "    \n",
    "    dateTime = splitLine[0] # dateTime = '28/03/19, 2:35'\n",
    "    \n",
    "    date, time = dateTime.split(', ') # date = '28/03/19'; time = '2:35'\n",
    "    \n",
    "    message = ' '.join(splitLine[1:]) # message = 'Tarini Tyagi: Why do we have less score'\n",
    "    \n",
    "    if startsWithAuthor(message): # True\n",
    "        splitMessage = message.split(': ') # splitMessage = ['Tarini Tyagi', 'Why do we have less score']\n",
    "        author = splitMessage[0] # author = 'Tarini Tyagi'\n",
    "        message = ' '.join(splitMessage[1:]) # message = 'Why do we have less score'\n",
    "    else:\n",
    "        author = None\n",
    "    return date, time, author, message\n",
    "\n",
    "parsedData = [] # List to keep track of data so it can be used by a Pandas dataframe\n",
    "conversationPath = 'Techteam.txt' \n",
    "with open(\"Techteam.txt\", encoding=\"utf-8\") as fp:\n",
    "    fp.readline() # Skipping first line of the file (usually contains information about end-to-end encryption)\n",
    "        \n",
    "    messageBuffer = [] # Buffer to capture intermediate output for multi-line messages\n",
    "    date, time, author = None, None, None # Intermediate variables to keep track of the current message being processed\n",
    "    \n",
    "    while True:\n",
    "        line = fp.readline() \n",
    "        if not line: # Stop reading further if end of file has been reached\n",
    "            break\n",
    "        line = line.strip() # Guarding against erroneous leading and trailing whitespaces\n",
    "        \n",
    "        if startsWithDateTime(line): # If a line starts with a Date Time pattern, then this indicates the beginning of a new message\n",
    "            #print(len(messageBuffer))\n",
    "            if len(messageBuffer) > 0: # Check if the message buffer contains characters from previous iterations\n",
    "                parsedData.append([date, time, author, ' '.join(messageBuffer)]) # Save the tokens from the previous message in parsedData\n",
    "            messageBuffer.clear() # Clear the message buffer so that it can be used for the next message\n",
    "            date, time, author, message = getDataPoint(line) # Identify and extract tokens from the line\n",
    "            messageBuffer.append(message) # Append message to buffer\n",
    "        else:\n",
    "            messageBuffer.append(line) # If a line doesn't start with a Date Time pattern, then it is part of a multi-line message. So, just append to buffer\n",
    "        \n",
    "        \n",
    "df = pd.DataFrame(parsedData, columns=['Date', 'Time', 'Author', 'Message'])\n",
    "df.head()\n",
    "\n",
    "df.describe()"
   ]
  },
  {
   "cell_type": "code",
   "execution_count": 22,
   "metadata": {},
   "outputs": [
    {
     "data": {
      "text/plain": [
       "<matplotlib.axes._subplots.AxesSubplot at 0x22092908358>"
      ]
     },
     "execution_count": 22,
     "metadata": {},
     "output_type": "execute_result"
    },
    {
     "data": {
      "image/png": "[encoded data removed]",
      "text/plain": [
       "<Figure size 432x288 with 1 Axes>"
      ]
     },
     "metadata": {},
     "output_type": "display_data"
    }
   ],
   "source": [
    "# Plotting Number of messages per author for the top 10 most active authors\n",
    "author_value_counts = df['Author'].value_counts() # Number of messages per author\n",
    "top_10_author_value_counts = author_value_counts.head(10) # Number of messages per author for the top 10 most active authors\n",
    "top_10_author_value_counts.plot.barh() # Plot a bar chart using pandas built-in plotting apis\n"
   ]
  },
  {
   "cell_type": "code",
   "execution_count": 23,
   "metadata": {},
   "outputs": [
    {
     "data": {
      "text/html": [
       "<div>\n",
       "<style scoped>\n",
       "    .dataframe tbody tr th:only-of-type {\n",
       "        vertical-align: middle;\n",
       "    }\n",
       "\n",
       "    .dataframe tbody tr th {\n",
       "        vertical-align: top;\n",
       "    }\n",
       "\n",
       "    .dataframe thead th {\n",
       "        text-align: right;\n",
       "    }\n",
       "</style>\n",
       "<table border=\"1\" class=\"dataframe\">\n",
       "  <thead>\n",
       "    <tr style=\"text-align: right;\">\n",
       "      <th></th>\n",
       "      <th>Date</th>\n",
       "      <th>Time</th>\n",
       "      <th>Author</th>\n",
       "      <th>Message</th>\n",
       "    </tr>\n",
       "  </thead>\n",
       "  <tbody>\n",
       "    <tr>\n",
       "      <th>0</th>\n",
       "      <td>None</td>\n",
       "      <td>None</td>\n",
       "      <td>None</td>\n",
       "      <td>28/03/19, 2:35 pm - You created group \"Tech te...</td>\n",
       "    </tr>\n",
       "  </tbody>\n",
       "</table>\n",
       "</div>"
      ],
      "text/plain": [
       "   Date  Time Author                                            Message\n",
       "0  None  None   None  28/03/19, 2:35 pm - You created group \"Tech te..."
      ]
     },
     "execution_count": 23,
     "metadata": {},
     "output_type": "execute_result"
    }
   ],
   "source": [
    "#Let us find all those messages which have no authors\n",
    "null_authors_df = df[df['Author'].isnull()]\n",
    "null_authors_df.head()"
   ]
  },
  {
   "cell_type": "code",
   "execution_count": 24,
   "metadata": {},
   "outputs": [
    {
     "name": "stdout",
     "output_type": "stream",
     "text": [
      "        Date      Time        Author          Message\n",
      "8   10/04/19  12:04 pm       Aanchal  <Media omitted>\n",
      "9   10/04/19  12:04 pm       Aanchal  <Media omitted>\n",
      "10  10/04/19  12:04 pm       Aanchal  <Media omitted>\n",
      "11  10/04/19  12:04 pm       Aanchal  <Media omitted>\n",
      "14  12/04/19  12:00 pm  Tarini Tyagi  <Media omitted>\n"
     ]
    },
    {
     "data": {
      "text/plain": [
       "<matplotlib.axes._subplots.AxesSubplot at 0x22094a33550>"
      ]
     },
     "execution_count": 24,
     "metadata": {},
     "output_type": "execute_result"
    },
    {
     "data": {
      "image/png": "[encoded data removed]",
      "text/plain": [
       "<Figure size 432x288 with 1 Axes>"
      ]
     },
     "metadata": {},
     "output_type": "display_data"
    }
   ],
   "source": [
    "#Let us find all media messages and analyze the number of media messages sent by the top 10 authors \n",
    "media_messages_df = df[df['Message'] == '<Media omitted>']\n",
    "print(media_messages_df.head())\n",
    "\n",
    "author_media_messages_value_counts = media_messages_df['Author'].value_counts()\n",
    "top_10_author_media_messages_value_counts = author_media_messages_value_counts.head(10)\n",
    "top_10_author_media_messages_value_counts.plot.barh()"
   ]
  },
  {
   "cell_type": "code",
   "execution_count": 25,
   "metadata": {},
   "outputs": [
    {
     "data": {
      "text/html": [
       "<div>\n",
       "<style scoped>\n",
       "    .dataframe tbody tr th:only-of-type {\n",
       "        vertical-align: middle;\n",
       "    }\n",
       "\n",
       "    .dataframe tbody tr th {\n",
       "        vertical-align: top;\n",
       "    }\n",
       "\n",
       "    .dataframe thead th {\n",
       "        text-align: right;\n",
       "    }\n",
       "</style>\n",
       "<table border=\"1\" class=\"dataframe\">\n",
       "  <thead>\n",
       "    <tr style=\"text-align: right;\">\n",
       "      <th></th>\n",
       "      <th>Date</th>\n",
       "      <th>Time</th>\n",
       "      <th>Author</th>\n",
       "      <th>Message</th>\n",
       "    </tr>\n",
       "  </thead>\n",
       "  <tbody>\n",
       "    <tr>\n",
       "      <th>1</th>\n",
       "      <td>28/03/19</td>\n",
       "      <td>11:01 pm</td>\n",
       "      <td>Aanchal</td>\n",
       "      <td>Vaise April end tk hi aaegi boss</td>\n",
       "    </tr>\n",
       "    <tr>\n",
       "      <th>2</th>\n",
       "      <td>28/03/19</td>\n",
       "      <td>11:57 pm</td>\n",
       "      <td>Vaishnavi</td>\n",
       "      <td>Han wahi</td>\n",
       "    </tr>\n",
       "    <tr>\n",
       "      <th>3</th>\n",
       "      <td>10/04/19</td>\n",
       "      <td>11:16 am</td>\n",
       "      <td>Vaishnavi</td>\n",
       "      <td>Kya plan h guys ?</td>\n",
       "    </tr>\n",
       "    <tr>\n",
       "      <th>4</th>\n",
       "      <td>10/04/19</td>\n",
       "      <td>11:25 am</td>\n",
       "      <td>Akshita Gupta</td>\n",
       "      <td>3 seniors</td>\n",
       "    </tr>\n",
       "    <tr>\n",
       "      <th>5</th>\n",
       "      <td>10/04/19</td>\n",
       "      <td>11:26 am</td>\n",
       "      <td>Akshita Gupta</td>\n",
       "      <td>3rd yr 6</td>\n",
       "    </tr>\n",
       "  </tbody>\n",
       "</table>\n",
       "</div>"
      ],
      "text/plain": [
       "       Date      Time         Author                           Message\n",
       "1  28/03/19  11:01 pm        Aanchal  Vaise April end tk hi aaegi boss\n",
       "2  28/03/19  11:57 pm      Vaishnavi                          Han wahi\n",
       "3  10/04/19  11:16 am      Vaishnavi                 Kya plan h guys ?\n",
       "4  10/04/19  11:25 am  Akshita Gupta                         3 seniors\n",
       "5  10/04/19  11:26 am  Akshita Gupta                          3rd yr 6"
      ]
     },
     "execution_count": 25,
     "metadata": {},
     "output_type": "execute_result"
    }
   ],
   "source": [
    "#dropping all those messages that are either media messages or do not have an author\n",
    "messages_df = df.drop(null_authors_df.index) # Drops all rows of the data frame containing messages from null authors\n",
    "messages_df = messages_df.drop(media_messages_df.index) # Drops all rows of the data frame containing media messages\n",
    "messages_df.head()"
   ]
  },
  {
   "cell_type": "code",
   "execution_count": 32,
   "metadata": {},
   "outputs": [
    {
     "data": {
      "text/html": [
       "<div>\n",
       "<style scoped>\n",
       "    .dataframe tbody tr th:only-of-type {\n",
       "        vertical-align: middle;\n",
       "    }\n",
       "\n",
       "    .dataframe tbody tr th {\n",
       "        vertical-align: top;\n",
       "    }\n",
       "\n",
       "    .dataframe thead th {\n",
       "        text-align: right;\n",
       "    }\n",
       "</style>\n",
       "<table border=\"1\" class=\"dataframe\">\n",
       "  <thead>\n",
       "    <tr style=\"text-align: right;\">\n",
       "      <th></th>\n",
       "      <th>Date</th>\n",
       "      <th>Time</th>\n",
       "      <th>Author</th>\n",
       "      <th>Message</th>\n",
       "    </tr>\n",
       "  </thead>\n",
       "  <tbody>\n",
       "    <tr>\n",
       "      <th>count</th>\n",
       "      <td>276</td>\n",
       "      <td>276</td>\n",
       "      <td>276</td>\n",
       "      <td>276</td>\n",
       "    </tr>\n",
       "    <tr>\n",
       "      <th>unique</th>\n",
       "      <td>27</td>\n",
       "      <td>144</td>\n",
       "      <td>19</td>\n",
       "      <td>219</td>\n",
       "    </tr>\n",
       "    <tr>\n",
       "      <th>top</th>\n",
       "      <td>26/04/19</td>\n",
       "      <td>12:14 pm</td>\n",
       "      <td>Tarini Tyagi</td>\n",
       "      <td>Okay boss</td>\n",
       "    </tr>\n",
       "    <tr>\n",
       "      <th>freq</th>\n",
       "      <td>57</td>\n",
       "      <td>8</td>\n",
       "      <td>97</td>\n",
       "      <td>27</td>\n",
       "    </tr>\n",
       "  </tbody>\n",
       "</table>\n",
       "</div>"
      ],
      "text/plain": [
       "            Date      Time        Author    Message\n",
       "count        276       276           276        276\n",
       "unique        27       144            19        219\n",
       "top     26/04/19  12:14 pm  Tarini Tyagi  Okay boss\n",
       "freq          57         8            97         27"
      ]
     },
     "execution_count": 32,
     "metadata": {},
     "output_type": "execute_result"
    }
   ],
   "source": [
    "#It might be interesting to count the number of letters and words used by each author in each message. So, let us add 2 new columns to the data frame called “Letter_Count” and “Word_Count”\n",
    "messages_df['Letter_Count'] = messages_df['Message'].apply(lambda s : len(s))\n",
    "messages_df['Word_Count'] = messages_df['Message'].apply(lambda s : len(s.split(' ')))\n",
    "discrete_columns = ['Date', 'Time', 'Author', 'Message']\n",
    "messages_df[discrete_columns].describe()"
   ]
  },
  {
   "cell_type": "code",
   "execution_count": 33,
   "metadata": {},
   "outputs": [
    {
     "data": {
      "text/html": [
       "<div>\n",
       "<style scoped>\n",
       "    .dataframe tbody tr th:only-of-type {\n",
       "        vertical-align: middle;\n",
       "    }\n",
       "\n",
       "    .dataframe tbody tr th {\n",
       "        vertical-align: top;\n",
       "    }\n",
       "\n",
       "    .dataframe thead th {\n",
       "        text-align: right;\n",
       "    }\n",
       "</style>\n",
       "<table border=\"1\" class=\"dataframe\">\n",
       "  <thead>\n",
       "    <tr style=\"text-align: right;\">\n",
       "      <th></th>\n",
       "      <th>Letter_Count</th>\n",
       "      <th>Word_Count</th>\n",
       "    </tr>\n",
       "  </thead>\n",
       "  <tbody>\n",
       "    <tr>\n",
       "      <th>count</th>\n",
       "      <td>276.000000</td>\n",
       "      <td>276.000000</td>\n",
       "    </tr>\n",
       "    <tr>\n",
       "      <th>mean</th>\n",
       "      <td>159.699275</td>\n",
       "      <td>29.134058</td>\n",
       "    </tr>\n",
       "    <tr>\n",
       "      <th>std</th>\n",
       "      <td>536.447480</td>\n",
       "      <td>95.365975</td>\n",
       "    </tr>\n",
       "    <tr>\n",
       "      <th>min</th>\n",
       "      <td>1.000000</td>\n",
       "      <td>1.000000</td>\n",
       "    </tr>\n",
       "    <tr>\n",
       "      <th>25%</th>\n",
       "      <td>9.000000</td>\n",
       "      <td>2.000000</td>\n",
       "    </tr>\n",
       "    <tr>\n",
       "      <th>50%</th>\n",
       "      <td>24.000000</td>\n",
       "      <td>5.000000</td>\n",
       "    </tr>\n",
       "    <tr>\n",
       "      <th>75%</th>\n",
       "      <td>52.750000</td>\n",
       "      <td>11.000000</td>\n",
       "    </tr>\n",
       "    <tr>\n",
       "      <th>max</th>\n",
       "      <td>4488.000000</td>\n",
       "      <td>774.000000</td>\n",
       "    </tr>\n",
       "  </tbody>\n",
       "</table>\n",
       "</div>"
      ],
      "text/plain": [
       "       Letter_Count  Word_Count\n",
       "count    276.000000  276.000000\n",
       "mean     159.699275   29.134058\n",
       "std      536.447480   95.365975\n",
       "min        1.000000    1.000000\n",
       "25%        9.000000    2.000000\n",
       "50%       24.000000    5.000000\n",
       "75%       52.750000   11.000000\n",
       "max     4488.000000  774.000000"
      ]
     },
     "execution_count": 33,
     "metadata": {},
     "output_type": "execute_result"
    }
   ],
   "source": [
    "\n",
    "continuous_columns = ['Letter_Count', 'Word_Count']\n",
    "messages_df[continuous_columns].describe()"
   ]
  },
  {
   "cell_type": "code",
   "execution_count": 34,
   "metadata": {},
   "outputs": [
    {
     "data": {
      "text/plain": [
       "(44077, 8041)"
      ]
     },
     "execution_count": 34,
     "metadata": {},
     "output_type": "execute_result"
    }
   ],
   "source": [
    "#How many words and letters have been sent since the beginning of time\n",
    "messages_df['Letter_Count'].sum(), messages_df['Word_Count'].sum()"
   ]
  },
  {
   "cell_type": "code",
   "execution_count": 35,
   "metadata": {},
   "outputs": [
    {
     "data": {
      "text/plain": [
       "Text(0,0.5,'Authors')"
      ]
     },
     "execution_count": 35,
     "metadata": {},
     "output_type": "execute_result"
    },
    {
     "data": {
      "image/png": "[encoded data removed]",
      "text/plain": [
       "<Figure size 432x288 with 1 Axes>"
      ]
     },
     "metadata": {},
     "output_type": "display_data"
    }
   ],
   "source": [
    "# How many words have been sent in total by each author, since the beginning of time?\n",
    "total_word_count_grouped_by_author = messages_df[['Author', 'Word_Count']].groupby('Author').sum()\n",
    "sorted_total_word_count_grouped_by_author = total_word_count_grouped_by_author.sort_values('Word_Count', ascending=False)\n",
    "top_10_sorted_total_word_count_grouped_by_author = sorted_total_word_count_grouped_by_author.head(10)\n",
    "top_10_sorted_total_word_count_grouped_by_author.plot.barh()\n",
    "plt.xlabel('Number of Words')\n",
    "plt.ylabel('Authors')"
   ]
  },
  {
   "cell_type": "code",
   "execution_count": 36,
   "metadata": {},
   "outputs": [
    {
     "data": {
      "text/plain": [
       "Text(0,0.5,'Frequency')"
      ]
     },
     "execution_count": 36,
     "metadata": {},
     "output_type": "execute_result"
    },
    {
     "data": {
      "image/png": "[encoded data removed]",
      "text/plain": [
       "<Figure size 1080x144 with 1 Axes>"
      ]
     },
     "metadata": {},
     "output_type": "display_data"
    }
   ],
   "source": [
    "#What is the most common number of words in a message?\n",
    "plt.figure(figsize=(15, 2)) # To ensure that the bar plot fits in the output cell of a Jupyter notebook\n",
    "word_count_value_counts = messages_df['Word_Count'].value_counts()\n",
    "top_40_word_count_value_counts = word_count_value_counts.head(40)\n",
    "top_40_word_count_value_counts.plot.bar()\n",
    "plt.xlabel('Word Count')\n",
    "plt.ylabel('Frequency')"
   ]
  },
  {
   "cell_type": "code",
   "execution_count": 37,
   "metadata": {},
   "outputs": [
    {
     "data": {
      "text/plain": [
       "Text(0,0.5,'Authors')"
      ]
     },
     "execution_count": 37,
     "metadata": {},
     "output_type": "execute_result"
    },
    {
     "data": {
      "image/png": "[encoded data removed]",
      "text/plain": [
       "<Figure size 432x288 with 1 Axes>"
      ]
     },
     "metadata": {},
     "output_type": "display_data"
    }
   ],
   "source": [
    "# Looks like most messages contain only 1 word. I wonder what that word is!\n",
    "#  the total number of letters sent by each author\n",
    "total_letter_count_grouped_by_author = messages_df[['Author', 'Letter_Count']].groupby('Author').sum()\n",
    "sorted_total_letter_count_grouped_by_author = total_letter_count_grouped_by_author.sort_values('Letter_Count', ascending=False)\n",
    "top_10_sorted_total_letter_count_grouped_by_author = sorted_total_letter_count_grouped_by_author.head(10)\n",
    "top_10_sorted_total_letter_count_grouped_by_author.plot.barh()\n",
    "plt.xlabel('Number of Letters')\n",
    "plt.ylabel('Authors')"
   ]
  },
  {
   "cell_type": "code",
   "execution_count": 38,
   "metadata": {},
   "outputs": [
    {
     "data": {
      "text/plain": [
       "Text(0,0.5,'Date')"
      ]
     },
     "execution_count": 38,
     "metadata": {},
     "output_type": "execute_result"
    },
    {
     "data": {
      "image/png": "[encoded data removed]",
      "text/plain": [
       "<Figure size 432x288 with 1 Axes>"
      ]
     },
     "metadata": {},
     "output_type": "display_data"
    }
   ],
   "source": [
    "# Do you know the date on which the most number of messages were sent in the history of your group? \n",
    "messages_df['Date'].value_counts().head(10).plot.barh() # Top 10 Dates on which the most number of messages were sent\n",
    "plt.xlabel('Number of Messages')\n",
    "plt.ylabel('Date')"
   ]
  },
  {
   "cell_type": "code",
   "execution_count": 39,
   "metadata": {},
   "outputs": [
    {
     "data": {
      "text/plain": [
       "Text(0,0.5,'Time')"
      ]
     },
     "execution_count": 39,
     "metadata": {},
     "output_type": "execute_result"
    },
    {
     "data": {
      "image/png": "[encoded data removed]",
      "text/plain": [
       "<Figure size 432x288 with 1 Axes>"
      ]
     },
     "metadata": {},
     "output_type": "display_data"
    }
   ],
   "source": [
    "# Do you lie awake at night wondering at what time of the day your group is most active?\n",
    "messages_df['Time'].value_counts().head(10).plot.barh() # Top 10 Times of the day at which the most number of messages were sent\n",
    "plt.xlabel('Number of messages')\n",
    "plt.ylabel('Time')"
   ]
  },
  {
   "cell_type": "code",
   "execution_count": 41,
   "metadata": {},
   "outputs": [
    {
     "data": {
      "text/plain": [
       "Text(0,0.5,'Hour of Day')"
      ]
     },
     "execution_count": 41,
     "metadata": {},
     "output_type": "execute_result"
    },
    {
     "data": {
      "image/png": "[encoded data removed]",
      "text/plain": [
       "<Figure size 432x288 with 1 Axes>"
      ]
     },
     "metadata": {},
     "output_type": "display_data"
    }
   ],
   "source": [
    "# What is the most suitable hour of the day at which to message to increase your chances of getting a response from someone?\n",
    "messages_df['Hour'] = messages_df['Time'].apply(lambda x : x.split(':')[0]) # The first token of a value in the Time Column contains the hour (Eg., \"20\" in \"20:15\")\n",
    "messages_df['Hour'].value_counts().head(10).sort_index(ascending=False).plot.barh() # Top 10 Hours of the day during which the most number of messages were sent\n",
    "plt.xlabel('Number of messages')\n",
    "plt.ylabel('Hour of Day')"
   ]
  },
  {
   "cell_type": "code",
   "execution_count": null,
   "metadata": {},
   "outputs": [],
   "source": [
    "# This shows messages send at 12:00 has the highest chances of eliciting responses from group members\n"
   ]
  }
 ],
 "metadata": {
  "kernelspec": {
   "display_name": "Python 3",
   "language": "python",
   "name": "python3"
  },
  "language_info": {
   "codemirror_mode": {
    "name": "ipython",
    "version": 3
   },
   "file_extension": ".py",
   "mimetype": "text/x-python",
   "name": "python",
   "nbconvert_exporter": "python",
   "pygments_lexer": "ipython3",
   "version": "3.6.5"
  }
 },
 "nbformat": 4,
 "nbformat_minor": 2
}
